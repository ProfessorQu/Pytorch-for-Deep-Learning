{
  "cells": [
    {
      "cell_type": "markdown",
      "metadata": {
        "id": "view-in-github",
        "colab_type": "text"
      },
      "source": [
        "<a href=\"https://colab.research.google.com/github/ProfessorQu/Pytorch-for-Deep-Learning/blob/main/01_tensor_operations.ipynb\" target=\"_parent\"><img src=\"https://colab.research.google.com/assets/colab-badge.svg\" alt=\"Open In Colab\"/></a>"
      ]
    },
    {
      "cell_type": "markdown",
      "metadata": {
        "id": "VhfAqEADd872"
      },
      "source": [
        "> ### Assignment Instructions (delete this cell before submission)\n",
        "> \n",
        "> The objective of this assignment is to develop a solid understanding of PyTorch tensors. In this assignment you will:\n",
        ">\n",
        "> 1. Pick 5 interesting functions related to PyTorch tensors by [reading the documentation](https://pytorch.org/docs/stable/torch.html), \n",
        "> 2. Edit this starter template notebook to illustrate their usage and publish your notebook to Jovian using `jovian.commit`. Make sure to add proper explanations too, not just code.\n",
        "> 3. Submit the link to your published notebook on Jovian here: https://jovian.ai/learn/deep-learning-with-pytorch-zero-to-gans/assignment/assignment-1-all-about-torch-tensor .\n",
        "> 4. (Optional) Write a blog post on [Medium](https://medium.com) to accompany and showcase your Jupyter notebook. [Embed cells from your notebook](https://medium.com/@aakashns/share-and-embed-jupyter-notebooks-online-with-jovian-ml-df709a03064e) wherever necessary.\n",
        "> 5. (Optional) [Share your work](https://jovian.ai/forum/t/pytorch-functions-and-tensor-operations/13790) with the community and exchange feedback with other participants\n",
        ">\n",
        ">\n",
        "> The recommended way to run this notebook is to click the \"Run\" button at the top of this page, and select \"Run on Colab\". Run `jovian.commit` regularly to save your progress.\n",
        "> \n",
        "> Try to give your notebook an interesting title e.g. \"All about PyTorch tensor operations\", \"5 PyTorch functions you didn't know you needed\", \"A beginner's guide to Autograd in PyToch\", \"Interesting ways to create PyTorch tensors\", \"Trigonometic functions in PyTorch\", \"How to use PyTorch tensors for Linear Algebra\" etc.\n",
        ">\n",
        "> **IMPORTANT NOTE**: Make sure to submit a Jovian notebook link e.g. https://jovian.ai/aakashns/01-tensor-operations . Colab links will not be accepted.\n",
        ">\n",
        "> Remove this cell containing instructions before making a submission or sharing your notebook, to make it more presentable.\n",
        ">\n",
        "\n"
      ]
    },
    {
      "cell_type": "markdown",
      "metadata": {
        "id": "WMhFrj6sd875"
      },
      "source": [
        "# Title Here\n",
        "\n",
        "An short introduction about PyTorch and about the chosen functions. \n",
        "\n",
        "- `torch.zeros`\n",
        "- `torch.ones`\n",
        "- `torch.complex`\n",
        "- function 4\n",
        "- function 5\n",
        "\n",
        "Before we begin, let's install and import PyTorch"
      ]
    },
    {
      "cell_type": "code",
      "execution_count": null,
      "metadata": {
        "id": "VxL9zFxGd875"
      },
      "outputs": [],
      "source": [
        "# Uncomment and run the appropriate command for your operating system, if required\n",
        "\n",
        "# Linux / Binder\n",
        "# !pip install numpy torch==1.7.0+cpu torchvision==0.8.1+cpu torchaudio==0.7.0 -f https://download.pytorch.org/whl/torch_stable.html\n",
        "\n",
        "# Windows\n",
        "# !pip install numpy torch==1.7.0+cpu torchvision==0.8.1+cpu torchaudio==0.7.0 -f https://download.pytorch.org/whl/torch_stable.html\n",
        "\n",
        "# MacOS\n",
        "# !pip install numpy torch torchvision torchaudio"
      ]
    },
    {
      "cell_type": "code",
      "execution_count": null,
      "metadata": {
        "id": "n96ZUi0Wd877"
      },
      "outputs": [],
      "source": [
        "# Import torch and other required modules\n",
        "import torch"
      ]
    },
    {
      "cell_type": "markdown",
      "metadata": {
        "id": "qNc4wFhzd877"
      },
      "source": [
        "## Function 1 - `torch.zeros`\n",
        "\n",
        "First, we will discuss the `torch.zeros` function from the PyTorch library. It is able to create a tensor of a certain size and then it will fill it with zeros."
      ]
    },
    {
      "cell_type": "code",
      "execution_count": null,
      "metadata": {
        "id": "JkmsBW6Qd877",
        "outputId": "7729d58b-b7a1-425a-cba2-c9f042331e4c",
        "colab": {
          "base_uri": "https://localhost:8080/"
        }
      },
      "outputs": [
        {
          "output_type": "execute_result",
          "data": {
            "text/plain": [
              "tensor([[0., 0., 0., 0., 0.],\n",
              "        [0., 0., 0., 0., 0.]])"
            ]
          },
          "metadata": {},
          "execution_count": 33
        }
      ],
      "source": [
        "# Creating a 2 high, 5 wide tensor\n",
        "torch.zeros([2, 5])"
      ]
    },
    {
      "cell_type": "markdown",
      "metadata": {
        "id": "Ln0PPmLwd878"
      },
      "source": [
        "As you can see in the example above, the `torch.zeros` function created a 2 high, 5 wide tensor full of zeros."
      ]
    },
    {
      "cell_type": "code",
      "execution_count": null,
      "metadata": {
        "id": "usqLs-_Hd879",
        "colab": {
          "base_uri": "https://localhost:8080/"
        },
        "outputId": "9a6ea396-4076-4c24-d044-bdedf0d465f2"
      },
      "outputs": [
        {
          "output_type": "execute_result",
          "data": {
            "text/plain": [
              "tensor([[[0., 0., 0., 0., 0.],\n",
              "         [0., 0., 0., 0., 0.],\n",
              "         [0., 0., 0., 0., 0.]],\n",
              "\n",
              "        [[0., 0., 0., 0., 0.],\n",
              "         [0., 0., 0., 0., 0.],\n",
              "         [0., 0., 0., 0., 0.]]])"
            ]
          },
          "metadata": {},
          "execution_count": 34
        }
      ],
      "source": [
        "# Creating a 2 long, 3 high, 5 wide tensor\n",
        "torch.zeros([2, 3, 5])"
      ]
    },
    {
      "cell_type": "markdown",
      "metadata": {
        "id": "tXjcit-qd879"
      },
      "source": [
        "Here we created a tensor of zero. Perhaps it will be difficult to understand why this is this, so let me clarify. You can visualize this tensor as a 3D box. One side is 2 wide, the other is 3 high and the last one is 5 long. It displays this tensor like this because it will be quite difficult to visualize it once we have like 25 dimensions."
      ]
    },
    {
      "cell_type": "code",
      "execution_count": null,
      "metadata": {
        "id": "d6ZMfT0Ld879",
        "outputId": "d5ce9bb0-e976-4642-fc60-ee90abae444b",
        "colab": {
          "base_uri": "https://localhost:8080/",
          "height": 182
        }
      },
      "outputs": [
        {
          "output_type": "error",
          "ename": "TypeError",
          "evalue": "ignored",
          "traceback": [
            "\u001b[0;31m---------------------------------------------------------------------------\u001b[0m",
            "\u001b[0;31mTypeError\u001b[0m                                 Traceback (most recent call last)",
            "\u001b[0;32m<ipython-input-35-c9dc283d3a65>\u001b[0m in \u001b[0;36m<module>\u001b[0;34m()\u001b[0m\n\u001b[1;32m      1\u001b[0m \u001b[0;31m# It has to be one list for it to work\u001b[0m\u001b[0;34m\u001b[0m\u001b[0;34m\u001b[0m\u001b[0;34m\u001b[0m\u001b[0m\n\u001b[0;32m----> 2\u001b[0;31m \u001b[0mtorch\u001b[0m\u001b[0;34m.\u001b[0m\u001b[0mzeros\u001b[0m\u001b[0;34m(\u001b[0m\u001b[0;34m[\u001b[0m\u001b[0;36m1.2\u001b[0m\u001b[0;34m,\u001b[0m \u001b[0;36m2\u001b[0m\u001b[0;34m,\u001b[0m \u001b[0;36m5\u001b[0m\u001b[0;34m]\u001b[0m\u001b[0;34m)\u001b[0m\u001b[0;34m\u001b[0m\u001b[0;34m\u001b[0m\u001b[0m\n\u001b[0m",
            "\u001b[0;31mTypeError\u001b[0m: zeros(): argument 'size' (position 1) must be tuple of ints, not list"
          ]
        }
      ],
      "source": [
        "# It has to be one list for it to work\n",
        "torch.zeros([1.2, 2, 5])"
      ]
    },
    {
      "cell_type": "markdown",
      "metadata": {
        "id": "NfIJXdnqd87-"
      },
      "source": [
        "This example breaks because the size argument has to be an array of ints. So it can't get any other datatype like floats, strings, etc. This also means it can't contain another list or tuple. It must be one list containing only integers."
      ]
    },
    {
      "cell_type": "markdown",
      "metadata": {
        "id": "GTt3ENoHd87-"
      },
      "source": [
        "This is a useful function when you need to create a boilerplate tensor. You can instantiate the shape of your data while leaving the data empty."
      ]
    },
    {
      "cell_type": "markdown",
      "metadata": {
        "id": "C3DjG7CPd87-"
      },
      "source": [
        "Let's save our work using Jovian before continuing."
      ]
    },
    {
      "cell_type": "code",
      "execution_count": null,
      "metadata": {
        "id": "Wj7B2bAZd87-"
      },
      "outputs": [],
      "source": [
        "!pip install jovian --upgrade --quiet"
      ]
    },
    {
      "cell_type": "code",
      "execution_count": null,
      "metadata": {
        "id": "LO6cu52Td87-"
      },
      "outputs": [],
      "source": [
        "import jovian"
      ]
    },
    {
      "cell_type": "code",
      "execution_count": null,
      "metadata": {
        "id": "vdEVK0WTd87_"
      },
      "outputs": [],
      "source": [
        "jovian.commit(project='01-tensor-operations')"
      ]
    },
    {
      "cell_type": "markdown",
      "metadata": {
        "id": "f1krAPGLd87_"
      },
      "source": [
        "## Function 2 - `torch.arange`\n",
        "\n",
        "This function will allow you to create a 1D tensor from a start to an end number with a certain step amount between each new number. It is uninclusive, meaning if you create an array going from 0 to 10, it won't contain 10.\n",
        "\n",
        "This is how I would implement it.\n",
        "```python\n",
        "def arange(start, end, step = 1):\n",
        "  # Define a \"tensor\"\n",
        "  tensor = []\n",
        "\n",
        "  # Start at the starting number\n",
        "  num = start\n",
        "\n",
        "  # Add elements to the list until we've reached the last element\n",
        "  while num < end:\n",
        "    tensor.append(num)\n",
        "\n",
        "    # Add the step\n",
        "    num += step\n",
        "  \n",
        "  return tensor\n",
        "```\n",
        "\n"
      ]
    },
    {
      "cell_type": "code",
      "execution_count": null,
      "metadata": {
        "id": "5ePsCrXSd87_",
        "colab": {
          "base_uri": "https://localhost:8080/"
        },
        "outputId": "ee57e05e-d4e3-4c0c-82b0-0443f1220046"
      },
      "outputs": [
        {
          "output_type": "execute_result",
          "data": {
            "text/plain": [
              "tensor([0, 1, 2, 3, 4, 5, 6, 7, 8, 9])"
            ]
          },
          "metadata": {},
          "execution_count": 36
        }
      ],
      "source": [
        "# Create a 1D tensor with size 10 from 0 to 9\n",
        "torch.arange(0, 10)"
      ]
    },
    {
      "cell_type": "markdown",
      "metadata": {
        "id": "OKWA7M--d87_"
      },
      "source": [
        "Here we just create a simple 1D tensor from 0 to 9."
      ]
    },
    {
      "cell_type": "code",
      "execution_count": null,
      "metadata": {
        "id": "yJs9072Qd87_",
        "colab": {
          "base_uri": "https://localhost:8080/"
        },
        "outputId": "4830e332-c38d-4cbb-f314-62a02d88ba0d"
      },
      "outputs": [
        {
          "output_type": "execute_result",
          "data": {
            "text/plain": [
              "tensor([0, 2, 4, 6, 8])"
            ]
          },
          "metadata": {},
          "execution_count": 37
        }
      ],
      "source": [
        "# Create a 1D tensor with size 5 from 0 to 8 with a step of 2\n",
        "torch.arange(0, 10, 2)"
      ]
    },
    {
      "cell_type": "markdown",
      "metadata": {
        "id": "MYoYBec9d88A"
      },
      "source": [
        "Now here we used the step parameter, if you leave it empty it will default to 1. It will start at the start number and add the step number at each next number. If that number is smaller than the end number, it will add it to the tensor."
      ]
    },
    {
      "cell_type": "code",
      "execution_count": null,
      "metadata": {
        "id": "Y2NxTPbdd88A",
        "colab": {
          "base_uri": "https://localhost:8080/"
        },
        "outputId": "b03d7c72-b97d-45f4-fb4b-4fb4b5f5011d"
      },
      "outputs": [
        {
          "output_type": "execute_result",
          "data": {
            "text/plain": [
              "tensor([0])"
            ]
          },
          "metadata": {},
          "execution_count": 38
        }
      ],
      "source": [
        "# Example 3 - breaking (to illustrate when it breaks)\n",
        "torch.arange(0, 3, 3)"
      ]
    },
    {
      "cell_type": "markdown",
      "metadata": {
        "id": "j_YTmrZYd88A"
      },
      "source": [
        "Here we have a step size that is equal to the end number, so it will add 0 to the list and then the next number in line, 3, will be bigger than or equal to the end number so it'll stop adding things to the list."
      ]
    },
    {
      "cell_type": "markdown",
      "metadata": {
        "id": "G3oswPihd88A"
      },
      "source": [
        "It's helpful for when you need a tensor that just needs a bunch of values other than one. Or if you need to use a loop and need ascending values for it."
      ]
    },
    {
      "cell_type": "code",
      "execution_count": null,
      "metadata": {
        "id": "HJ6yAMitd88A"
      },
      "outputs": [],
      "source": [
        "jovian.commit(project='01-tensor-operations')"
      ]
    },
    {
      "cell_type": "markdown",
      "metadata": {
        "id": "dfUqpNd_d88A"
      },
      "source": [
        "## Function 3 - `torch.complex`\n",
        "\n",
        "This is a simple way of creating complex tensors, a complex number is basically just a list of two numbers represented as one. It has a real and an imaginary part to it. It is depicted as `real+imag*j` where j is the square root of -1, that's why they are called imaginary numbers."
      ]
    },
    {
      "cell_type": "code",
      "execution_count": null,
      "metadata": {
        "id": "XJxxHxDbd88A"
      },
      "outputs": [],
      "source": [
        "# Example 1 - working\n",
        "real = torch.tensor([1], dtype=torch.float32)\n",
        "imag = torch.tensor([2], dtype=torch.float32)\n",
        "t1 = torch.complex(real, imag)"
      ]
    },
    {
      "cell_type": "markdown",
      "metadata": {
        "id": "zVGkxkKMd88B"
      },
      "source": [
        "Here we create a simple complex number with a real value of 1 and an imaginary value of 2."
      ]
    },
    {
      "cell_type": "code",
      "execution_count": null,
      "metadata": {
        "id": "oIsnVkYOd88B",
        "colab": {
          "base_uri": "https://localhost:8080/"
        },
        "outputId": "7ab8cfab-0c0b-499f-cf48-d5df8ff78c0f"
      },
      "outputs": [
        {
          "output_type": "stream",
          "name": "stdout",
          "text": [
            "tensor([1.+2.j])\n",
            "tensor([1.])\n",
            "tensor([2.])\n",
            "\n",
            "tensor([1.5000+3.j])\n",
            "tensor([3.])\n",
            "tensor([7.])\n"
          ]
        }
      ],
      "source": [
        "# Example 2 - working\n",
        "print(t1)\n",
        "print(t1.real)\n",
        "print(t1.imag)\n",
        "print()\n",
        "print(t1 * 1.5)\n",
        "print(t1.real * 3)\n",
        "print(t1.imag + 5)"
      ]
    },
    {
      "cell_type": "markdown",
      "metadata": {
        "id": "L5m2af8jd88B"
      },
      "source": [
        "As you can see, PyTorch supports basic arithmetic operations on both the real and imaginary parts of the tensor, and even both at the same time!"
      ]
    },
    {
      "cell_type": "code",
      "execution_count": null,
      "metadata": {
        "id": "APEJjHrSd88B",
        "colab": {
          "base_uri": "https://localhost:8080/",
          "height": 200
        },
        "outputId": "a461ce56-4384-4e9f-f3b4-a8318e0a9687"
      },
      "outputs": [
        {
          "output_type": "error",
          "ename": "RuntimeError",
          "evalue": "ignored",
          "traceback": [
            "\u001b[0;31m---------------------------------------------------------------------------\u001b[0m",
            "\u001b[0;31mRuntimeError\u001b[0m                              Traceback (most recent call last)",
            "\u001b[0;32m<ipython-input-41-7f631e19129e>\u001b[0m in \u001b[0;36m<module>\u001b[0;34m()\u001b[0m\n\u001b[1;32m      2\u001b[0m \u001b[0mreal\u001b[0m \u001b[0;34m=\u001b[0m \u001b[0mtorch\u001b[0m\u001b[0;34m.\u001b[0m\u001b[0mtensor\u001b[0m\u001b[0;34m(\u001b[0m\u001b[0;36m7\u001b[0m\u001b[0;34m)\u001b[0m\u001b[0;34m\u001b[0m\u001b[0;34m\u001b[0m\u001b[0m\n\u001b[1;32m      3\u001b[0m \u001b[0mimag\u001b[0m \u001b[0;34m=\u001b[0m \u001b[0mtorch\u001b[0m\u001b[0;34m.\u001b[0m\u001b[0mtensor\u001b[0m\u001b[0;34m(\u001b[0m\u001b[0;36m4\u001b[0m\u001b[0;34m)\u001b[0m\u001b[0;34m\u001b[0m\u001b[0;34m\u001b[0m\u001b[0m\n\u001b[0;32m----> 4\u001b[0;31m \u001b[0mtorch\u001b[0m\u001b[0;34m.\u001b[0m\u001b[0mcomplex\u001b[0m\u001b[0;34m(\u001b[0m\u001b[0mreal\u001b[0m\u001b[0;34m,\u001b[0m \u001b[0mimag\u001b[0m\u001b[0;34m)\u001b[0m\u001b[0;34m\u001b[0m\u001b[0;34m\u001b[0m\u001b[0m\n\u001b[0m",
            "\u001b[0;31mRuntimeError\u001b[0m: Expected both inputs to be Float or Double tensors but got Long and Long"
          ]
        }
      ],
      "source": [
        "# Example 3 - breaking (to illustrate when it breaks)\n",
        "real = torch.tensor(7)\n",
        "imag = torch.tensor(4)\n",
        "torch.complex(real, imag)"
      ]
    },
    {
      "cell_type": "markdown",
      "metadata": {
        "id": "a_0w2_Icd88B"
      },
      "source": [
        "You have to be very explicit with the types you give the complex tensor. They have to be either a float or a double, plus you only have two parts of the tensor, the real part and the imaginary part. If you want a number to store 3 values, you'll be better off increasing the size of the tensor."
      ]
    },
    {
      "cell_type": "markdown",
      "metadata": {
        "id": "Trb0OL1Yd88B"
      },
      "source": [
        "It's not something you'll have to use a lot, especially in Deep Learning, but it can be helpful for the people who need it. For example the Mandelbrot set, I couldn't find anyone who used complex tensors to draw one, but I'm certain it's possible."
      ]
    },
    {
      "cell_type": "code",
      "execution_count": null,
      "metadata": {
        "id": "_gGZtGWvd88B"
      },
      "outputs": [],
      "source": [
        "jovian.commit(project='01-tensor-operations')"
      ]
    },
    {
      "cell_type": "markdown",
      "metadata": {
        "id": "19Yty-Vid88B"
      },
      "source": [
        "## Function 4 - `torch.reshape`\n",
        "\n",
        "This is a function that allows you to reshape any tensor to any size you want, within bounds."
      ]
    },
    {
      "cell_type": "code",
      "execution_count": null,
      "metadata": {
        "id": "gtOaCeOdd88B",
        "colab": {
          "base_uri": "https://localhost:8080/"
        },
        "outputId": "db865dba-9dc5-461d-afdb-0c707f583d29"
      },
      "outputs": [
        {
          "output_type": "stream",
          "name": "stdout",
          "text": [
            "tensor([[0.1715, 0.8807, 0.6282],\n",
            "        [0.3179, 0.1834, 0.2466],\n",
            "        [0.8092, 0.3088, 0.8913],\n",
            "        [0.6430, 0.2294, 0.7268]])\n"
          ]
        },
        {
          "output_type": "execute_result",
          "data": {
            "text/plain": [
              "tensor([[0.1715, 0.8807],\n",
              "        [0.6282, 0.3179],\n",
              "        [0.1834, 0.2466],\n",
              "        [0.8092, 0.3088],\n",
              "        [0.8913, 0.6430],\n",
              "        [0.2294, 0.7268]])"
            ]
          },
          "metadata": {},
          "execution_count": 42
        }
      ],
      "source": [
        "# Reshape a tensor to 6, 2\n",
        "t2 = torch.rand([4, 3])\n",
        "print(t2)\n",
        "t2.reshape([6, 2])"
      ]
    },
    {
      "cell_type": "markdown",
      "metadata": {
        "id": "ZiHBLEO8d88C"
      },
      "source": [
        "First, we create a tensor with random values (to see how reshape changes the values). Then we reshape the tensor from 4, 3 to 6, 2. This works because the number of items in each tensor is the same. 4 \\* 3 = 12 and 6 \\* 2 = 12."
      ]
    },
    {
      "cell_type": "code",
      "execution_count": null,
      "metadata": {
        "id": "nbkRveUid88C",
        "colab": {
          "base_uri": "https://localhost:8080/"
        },
        "outputId": "532977b3-fb40-46bf-84dd-d8c63af5a598"
      },
      "outputs": [
        {
          "output_type": "execute_result",
          "data": {
            "text/plain": [
              "tensor([[[0.1715, 0.8807, 0.6282],\n",
              "         [0.3179, 0.1834, 0.2466]],\n",
              "\n",
              "        [[0.8092, 0.3088, 0.8913],\n",
              "         [0.6430, 0.2294, 0.7268]]])"
            ]
          },
          "metadata": {},
          "execution_count": 43
        }
      ],
      "source": [
        "# Reshape the tensor to 2, -1\n",
        "t2.reshape([2, 2, -1])"
      ]
    },
    {
      "cell_type": "markdown",
      "metadata": {
        "id": "3whV8CWrd88C"
      },
      "source": [
        "We can also give one element of size a -1 to have PyTorch automatically infer that dimension. In the example I said that I will use a size of 2, 2 and that PyTorch can infer the last dimension, which is obviously 3: the total number of items is 12, so 12 / 2 / 2 = 3."
      ]
    },
    {
      "cell_type": "code",
      "execution_count": null,
      "metadata": {
        "id": "VZI5BwC6d88C",
        "colab": {
          "base_uri": "https://localhost:8080/",
          "height": 182
        },
        "outputId": "64ff65f8-bca6-44c6-f960-7cd1e3a6418b"
      },
      "outputs": [
        {
          "output_type": "error",
          "ename": "RuntimeError",
          "evalue": "ignored",
          "traceback": [
            "\u001b[0;31m---------------------------------------------------------------------------\u001b[0m",
            "\u001b[0;31mRuntimeError\u001b[0m                              Traceback (most recent call last)",
            "\u001b[0;32m<ipython-input-44-68424d258a6a>\u001b[0m in \u001b[0;36m<module>\u001b[0;34m()\u001b[0m\n\u001b[1;32m      1\u001b[0m \u001b[0;31m# You can't reshape to an invalid shape\u001b[0m\u001b[0;34m\u001b[0m\u001b[0;34m\u001b[0m\u001b[0;34m\u001b[0m\u001b[0m\n\u001b[0;32m----> 2\u001b[0;31m \u001b[0mt2\u001b[0m\u001b[0;34m.\u001b[0m\u001b[0mreshape\u001b[0m\u001b[0;34m(\u001b[0m\u001b[0;36m5\u001b[0m\u001b[0;34m,\u001b[0m \u001b[0;34m-\u001b[0m\u001b[0;36m1\u001b[0m\u001b[0;34m)\u001b[0m\u001b[0;34m\u001b[0m\u001b[0;34m\u001b[0m\u001b[0m\n\u001b[0m",
            "\u001b[0;31mRuntimeError\u001b[0m: shape '[5, -1]' is invalid for input of size 12"
          ]
        }
      ],
      "source": [
        "# You can't reshape to an invalid shape\n",
        "t2.reshape(5, -1)"
      ]
    },
    {
      "cell_type": "markdown",
      "metadata": {
        "id": "jnwQyzlFd88C"
      },
      "source": [
        "We can't use a size of a tensor that wouldn't contain the same amount of items as the tensor that we are reshaping. So this doesn't work because 12 isn't divisible by 5."
      ]
    },
    {
      "cell_type": "markdown",
      "metadata": {
        "id": "DhatdIXGd88C"
      },
      "source": [
        "This is a useful function for when you have to, for example, flatten all your data to input it into a neural network. Or there are a lot more uses."
      ]
    },
    {
      "cell_type": "code",
      "execution_count": null,
      "metadata": {
        "id": "hBUpZuSxd88C"
      },
      "outputs": [],
      "source": [
        "jovian.commit(project='01-tensor-operations')"
      ]
    },
    {
      "cell_type": "markdown",
      "metadata": {
        "id": "RB_nDvEOd88C"
      },
      "source": [
        "## Function 5 - `torch.cat`\n",
        "\n",
        "This function is a way to \"add\" two tensors to eachother. It doesn't do element addition, it just adds one entire tensor to the other, or sometimes even multiple tensors."
      ]
    },
    {
      "cell_type": "code",
      "execution_count": null,
      "metadata": {
        "id": "S6FBB1KUd88D",
        "colab": {
          "base_uri": "https://localhost:8080/"
        },
        "outputId": "37854e90-a21e-4f98-b649-e12b989c3895"
      },
      "outputs": [
        {
          "output_type": "stream",
          "name": "stdout",
          "text": [
            "tensor([[0.0217, 0.6987, 0.0688],\n",
            "        [0.1527, 0.4761, 0.4032]])\n",
            "tensor([[0.5952, 0.7134, 0.7430],\n",
            "        [0.6658, 0.4544, 0.8456],\n",
            "        [0.9178, 0.6712, 0.4708],\n",
            "        [0.6829, 0.7413, 0.1981]])\n"
          ]
        }
      ],
      "source": [
        "t3 = torch.rand([2, 3])\n",
        "print(t3)\n",
        "t4 = torch.rand([4, 3])\n",
        "print(t4)"
      ]
    },
    {
      "cell_type": "code",
      "source": [
        "# Concat the two tensors along the height\n",
        "torch.cat((t3, t4))"
      ],
      "metadata": {
        "colab": {
          "base_uri": "https://localhost:8080/"
        },
        "id": "ACzPoO1bIS2G",
        "outputId": "142d01b9-32a5-4515-9c0d-48543f04fad0"
      },
      "execution_count": null,
      "outputs": [
        {
          "output_type": "execute_result",
          "data": {
            "text/plain": [
              "tensor([[0.0217, 0.6987, 0.0688],\n",
              "        [0.1527, 0.4761, 0.4032],\n",
              "        [0.5952, 0.7134, 0.7430],\n",
              "        [0.6658, 0.4544, 0.8456],\n",
              "        [0.9178, 0.6712, 0.4708],\n",
              "        [0.6829, 0.7413, 0.1981]])"
            ]
          },
          "metadata": {},
          "execution_count": 46
        }
      ]
    },
    {
      "cell_type": "markdown",
      "metadata": {
        "id": "0QX4qsgRd88D"
      },
      "source": [
        "This example is a basic way of concatting two tensors. It has one tensor of width 3, and height 2, and the other one with 3 wide and 4 high. Then it concats these tensors together to a 3 wide 6 high tensor."
      ]
    },
    {
      "cell_type": "code",
      "execution_count": null,
      "metadata": {
        "id": "e8PXPcX3d88D",
        "colab": {
          "base_uri": "https://localhost:8080/"
        },
        "outputId": "c91c9934-0453-49ad-e64a-1c5cea964dc5"
      },
      "outputs": [
        {
          "output_type": "stream",
          "name": "stdout",
          "text": [
            "tensor([[0.1832, 0.3991, 0.9925],\n",
            "        [0.6628, 0.4219, 0.6622],\n",
            "        [0.2901, 0.1759, 0.3803],\n",
            "        [0.8254, 0.1326, 0.6224],\n",
            "        [0.6592, 0.6631, 0.2236]])\n",
            "tensor([[0.7866, 0.6822, 0.5209, 0.0275, 0.3042, 0.5677],\n",
            "        [0.9235, 0.8758, 0.6734, 0.2600, 0.7665, 0.0113],\n",
            "        [0.1334, 0.9238, 0.3691, 0.5140, 0.9085, 0.1270],\n",
            "        [0.1376, 0.2512, 0.8958, 0.5218, 0.5244, 0.3537],\n",
            "        [0.2862, 0.9076, 0.5320, 0.6301, 0.5425, 0.4005]])\n"
          ]
        }
      ],
      "source": [
        "t5 = torch.rand([5, 3])\n",
        "print(t5)\n",
        "t6 = torch.rand([5, 6])\n",
        "print(t6)"
      ]
    },
    {
      "cell_type": "code",
      "source": [
        "# Concat the two tensors along the width\n",
        "torch.cat((t5, t6), 1)"
      ],
      "metadata": {
        "colab": {
          "base_uri": "https://localhost:8080/"
        },
        "id": "GrbxRX_RJf3r",
        "outputId": "d0c70abd-8de1-43d7-9360-e83d32f333c7"
      },
      "execution_count": null,
      "outputs": [
        {
          "output_type": "execute_result",
          "data": {
            "text/plain": [
              "tensor([[0.1832, 0.3991, 0.9925, 0.7866, 0.6822, 0.5209, 0.0275, 0.3042, 0.5677],\n",
              "        [0.6628, 0.4219, 0.6622, 0.9235, 0.8758, 0.6734, 0.2600, 0.7665, 0.0113],\n",
              "        [0.2901, 0.1759, 0.3803, 0.1334, 0.9238, 0.3691, 0.5140, 0.9085, 0.1270],\n",
              "        [0.8254, 0.1326, 0.6224, 0.1376, 0.2512, 0.8958, 0.5218, 0.5244, 0.3537],\n",
              "        [0.6592, 0.6631, 0.2236, 0.2862, 0.9076, 0.5320, 0.6301, 0.5425, 0.4005]])"
            ]
          },
          "metadata": {},
          "execution_count": 48
        }
      ]
    },
    {
      "cell_type": "markdown",
      "metadata": {
        "id": "gc71Inh-d88D"
      },
      "source": [
        "Here we concat two tensors wit ha height of 5 along the 1 dimension or the height (increasing the width)."
      ]
    },
    {
      "cell_type": "code",
      "execution_count": null,
      "metadata": {
        "id": "88U_WrPfd88D",
        "colab": {
          "base_uri": "https://localhost:8080/",
          "height": 182
        },
        "outputId": "2bc0e0d5-2f32-40a3-a5a6-95bf5031ae31"
      },
      "outputs": [
        {
          "output_type": "error",
          "ename": "RuntimeError",
          "evalue": "ignored",
          "traceback": [
            "\u001b[0;31m---------------------------------------------------------------------------\u001b[0m",
            "\u001b[0;31mRuntimeError\u001b[0m                              Traceback (most recent call last)",
            "\u001b[0;32m<ipython-input-49-a5630b527df0>\u001b[0m in \u001b[0;36m<module>\u001b[0;34m()\u001b[0m\n\u001b[1;32m      1\u001b[0m \u001b[0;31m# Example 3 - breaking (to illustrate when it breaks)\u001b[0m\u001b[0;34m\u001b[0m\u001b[0;34m\u001b[0m\u001b[0;34m\u001b[0m\u001b[0m\n\u001b[0;32m----> 2\u001b[0;31m \u001b[0mtorch\u001b[0m\u001b[0;34m.\u001b[0m\u001b[0mcat\u001b[0m\u001b[0;34m(\u001b[0m\u001b[0;34m(\u001b[0m\u001b[0mt5\u001b[0m\u001b[0;34m,\u001b[0m \u001b[0mt6\u001b[0m\u001b[0;34m)\u001b[0m\u001b[0;34m)\u001b[0m\u001b[0;34m\u001b[0m\u001b[0;34m\u001b[0m\u001b[0m\n\u001b[0m",
            "\u001b[0;31mRuntimeError\u001b[0m: Sizes of tensors must match except in dimension 0. Expected size 3 but got size 6 for tensor number 1 in the list."
          ]
        }
      ],
      "source": [
        "# Example 3 - breaking (to illustrate when it breaks)\n",
        "torch.cat((t5, t6))"
      ]
    },
    {
      "cell_type": "markdown",
      "metadata": {
        "id": "guengCQmd88D"
      },
      "source": [
        "We can't concat two tensors along an axis which they do not match. So for example here they are of size 3 and 6 which do not match, so it can't concat the tensors."
      ]
    },
    {
      "cell_type": "markdown",
      "metadata": {
        "id": "fFPJ-CzWd88D"
      },
      "source": [
        "This is very helpful if you have multiple tensors with important data and want to merge all those tensors together."
      ]
    },
    {
      "cell_type": "code",
      "execution_count": null,
      "metadata": {
        "id": "VpCNgn2yd88D"
      },
      "outputs": [],
      "source": [
        "jovian.commit(project='01-tensor-operations')"
      ]
    },
    {
      "cell_type": "markdown",
      "metadata": {
        "id": "8gFmZB9Ed88E"
      },
      "source": [
        "## Conclusion\n",
        "\n",
        "We took a look at a few functions for PyTorch tensors and looked at what we can do with those functions. This was just made mostly for myself to get a basic understanding of some of the functions in the PyTorch framework."
      ]
    },
    {
      "cell_type": "markdown",
      "metadata": {
        "id": "d4HjXQMgd88E"
      },
      "source": [
        "## Reference Links\n",
        "Provide links to your references and other interesting articles about tensors\n",
        "* Official documentation for tensor operations: https://pytorch.org/docs/stable/torch.html\n",
        "* Complex numbers: https://pytorch.org/docs/stable/complex_numbers.html\n",
        "* Mandelbrot set using PyTorch: https://medium.com/@krzysztof.pieranski/mandelbrot-set-with-pytorch-d006827fb887"
      ]
    },
    {
      "cell_type": "code",
      "execution_count": null,
      "metadata": {
        "id": "SzoHP-MAd88E"
      },
      "outputs": [],
      "source": [
        "jovian.commit(project='01-tensor-operations')"
      ]
    }
  ],
  "metadata": {
    "kernelspec": {
      "display_name": "Python 3",
      "language": "python",
      "name": "python3"
    },
    "language_info": {
      "codemirror_mode": {
        "name": "ipython",
        "version": 3
      },
      "file_extension": ".py",
      "mimetype": "text/x-python",
      "name": "python",
      "nbconvert_exporter": "python",
      "pygments_lexer": "ipython3",
      "version": "3.8.5"
    },
    "colab": {
      "name": "01-tensor-operations.ipynb",
      "provenance": [],
      "collapsed_sections": [],
      "include_colab_link": true
    }
  },
  "nbformat": 4,
  "nbformat_minor": 0
}